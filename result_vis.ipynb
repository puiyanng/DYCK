{
  "nbformat": 4,
  "nbformat_minor": 0,
  "metadata": {
    "colab": {
      "name": "result_vis.ipynb",
      "provenance": [],
      "collapsed_sections": [
        "lPmuk5cNJFn4"
      ],
      "toc_visible": true
    },
    "kernelspec": {
      "name": "python3",
      "display_name": "Python 3"
    }
  },
  "cells": [
    {
      "cell_type": "markdown",
      "metadata": {
        "id": "7TsmPPk4XXUe",
        "colab_type": "text"
      },
      "source": [
        "# README\n",
        "\n",
        "This notebook runs on Google Colab\n",
        "\n",
        "The Source file **results.csv** should locate in the same directory of the notebook\n"
      ]
    },
    {
      "cell_type": "markdown",
      "metadata": {
        "id": "lPmuk5cNJFn4",
        "colab_type": "text"
      },
      "source": [
        "# Functions"
      ]
    },
    {
      "cell_type": "code",
      "metadata": {
        "id": "_m4oTCnaJEBm",
        "colab_type": "code",
        "colab": {}
      },
      "source": [
        "def insertDF(the_df, model_name, value, transform_name, key_col=\"Model\"):\n",
        "    if(the_df.loc[the_df[key_col] == model_name].empty):\n",
        "      n_r = len(the_df)\n",
        "      the_df.loc[n_r] = None\n",
        "      the_df.loc[n_r, key_col] = model_name\n",
        "\n",
        "    idx = the_df.loc[the_df[key_col] == model_name][transform_name].index\n",
        "    the_df.loc[idx, transform_name] = value\n",
        "    return  the_df\n",
        "\n",
        "def clean_model_name(name):\n",
        "  if name == 'Adaboost Classifier':\n",
        "    name = 'Adaboost'\n",
        "  elif name == 'AdaBoost Classifier':\n",
        "    name = 'Adaboost'\n",
        "  elif name == 'Random Forest Classifier':\n",
        "    name = 'Random Forest'\n",
        "  \n",
        "  return  name\n",
        "\n",
        "def exec_slice_result(df, year):\n",
        "  df_ori = pd.DataFrame(columns=['Model', 'Actual', 'First Order', 'Second Order', \n",
        "                                 'First Order (NASDAQ & Currencies Excluded)', \n",
        "                                 'Second Order (NASDAQ & Currencies Excluded)', \n",
        "                                 'First Order (15day Window)', 'Second Order (15day Window)', \n",
        "                                 'First Order (NASDAQ & Currencies Excluded, 15day Window)', \n",
        "                                 'Second Order (NASDAQ & Currencies Excluded, 15day Window)',\n",
        "                                 'Stationary'])\n",
        "  result = df_ori\n",
        "\n",
        "  for r_i, r in df.iterrows():\n",
        "    model_name = df.iloc[r_i]['Model']\n",
        "\n",
        "    model_name = clean_model_name(model_name)\n",
        "\n",
        "    # Get Value\n",
        "    value = df.iloc[r_i]['%age correct']\n",
        "    if isinstance(value, str):\n",
        "      value = value.replace('%', '')\n",
        "    value = float(value)\n",
        "    if value == None:\n",
        "      continue\n",
        "\n",
        "\n",
        "    # df.loc[r_i, ('%age correct')] = value\n",
        "    \n",
        "    if df.iloc[r_i]['# of years'] == year:\n",
        "\n",
        "      excluded = df.iloc[r_i]['feature excluded']\n",
        "      comments = df.iloc[r_i]['comments']\n",
        "\n",
        "      if not isinstance(excluded, str):\n",
        "        continue\n",
        "\n",
        "      if 'NASDAQ' in excluded:\n",
        "        if 'first order' in comments:\n",
        "          transform_name = 'First Order (NASDAQ & Currencies Excluded)'\n",
        "          if 'window' in comments:\n",
        "            transform_name = 'First Order (NASDAQ & Currencies Excluded, 15day Window)'\n",
        "        else:  # elif 'second order' in comments:\n",
        "          transform_name = 'Second Order (NASDAQ & Currencies Excluded)'\n",
        "          if 'window' in comments:\n",
        "            transform_name = 'Second Order (NASDAQ & Currencies Excluded, 15day Window)'\n",
        "      else:  # elif 'Date in exclude':\n",
        "        if 'first order' in comments:\n",
        "          transform_name = 'First Order'\n",
        "          if 'window' in comments:\n",
        "            transform_name = 'First Order (15day Window)'\n",
        "        else:  # elif 'second order' in comments:\n",
        "          transform_name = 'Second Order'\n",
        "          if 'window' in comments:\n",
        "            transform_name = 'Second Order (15day Window)'\n",
        "\n",
        "      if 'Preliminary' in comments:\n",
        "        transform_name = 'Actual'\n",
        "      elif 'Stationary' in comments:\n",
        "        transform_name = 'Stationary'\n",
        "      # print(model_name, value, transform_name)\n",
        "      insertDF(result, model_name, value, transform_name)\n",
        "  return  result\n",
        "\n",
        "def slice_result(df):\n",
        "  df_5yr = exec_slice_result(df, 5)\n",
        "  df_10yr = exec_slice_result(df, 10)\n",
        "  return  df_5yr, df_10yr\n",
        "\n",
        "def plot_result(df_master, series, k='Model', width=5, y_lower=45, y_upper=65, legend_y=-.5):\n",
        "  # print(k)\n",
        "  # print(df_master.columns)\n",
        "  chart = df_master.plot.bar(x=k, y=series, rot=0, figsize=(width,5), cmap = 'YlGn', edgecolor = 'black')\n",
        "  chart.legend(loc='lower right', bbox_to_anchor=(1, legend_y))\n",
        "  chart.set_ylim(y_lower, y_upper)\n",
        "  chart.set_xticklabels(chart.get_xticklabels(), rotation=45, horizontalalignment='right')\n",
        "  chart.set_yticklabels(['{:,.0%}'.format(x / 100) for x in chart.get_yticks()])\n",
        "  \n",
        "  '''\n",
        "  mean1 = df_master[\"First Order\"].mean()\n",
        "  chart.axhline(mean1, linewidth = 1, \n",
        "                color=(.8,.8,.5), linestyle='--')\n",
        "  mean2 = df_master[\"Second Order\"].mean()\n",
        "  chart.axhline(mean2, linewidth = 1, \n",
        "                color=(.3,.6,.3), linestyle='--')\n",
        "  '''"
      ],
      "execution_count": 0,
      "outputs": []
    },
    {
      "cell_type": "markdown",
      "metadata": {
        "id": "QshFaNTIIqDS",
        "colab_type": "text"
      },
      "source": [
        "#Setup\n"
      ]
    },
    {
      "cell_type": "code",
      "metadata": {
        "id": "Rh1gBof2ItXa",
        "colab_type": "code",
        "colab": {}
      },
      "source": [
        "import pandas as pd\n",
        "import tqdm as tqdm\n",
        "import matplotlib as plt\n",
        "import numpy as np\n",
        "pd.set_option('display.max_rows', 50)\n",
        "pd.set_option('display.max_columns', 50)\n",
        "pd.set_option('display.width', 500)\n",
        "\n",
        "def setup():\n",
        "  data = pd.read_csv('results.csv')\n",
        "  print('Number of Results: ' + str(len(data)))\n",
        "  # df = pd.DataFrame(columns=['Model', 'Actual', 'First Order', 'Second Order', 'First Order Denoised', 'Second Order Denoised', 'Stationary'])\n",
        "  _, df_10y = slice_result(data)\n",
        "\n",
        "  t = df_10y.drop(['Actual'], axis=1)\n",
        "\n",
        "  print(t)\n",
        "  plot_result(df_10y, [\"First Order\", \"Second Order\", \"First Order (NASDAQ & Currencies Excluded)\", \n",
        "              \"Second Order (NASDAQ & Currencies Excluded)\", \"Stationary\"], width=8, legend_y=-.7)\n",
        "  \n",
        "  return _, df_10y \n",
        "_, df_10y = setup()"
      ],
      "execution_count": 0,
      "outputs": []
    },
    {
      "cell_type": "markdown",
      "metadata": {
        "id": "Fkw2Ij76L45V",
        "colab_type": "text"
      },
      "source": [
        "# Value Differencing\n"
      ]
    },
    {
      "cell_type": "code",
      "metadata": {
        "id": "bnXIHPZ7L3Q0",
        "colab_type": "code",
        "colab": {}
      },
      "source": [
        "def get_result_feature_trans(t):\n",
        "  t = t.drop(['First Order (15day Window)', 'Second Order (15day Window)', \n",
        "              'First Order (NASDAQ & Currencies Excluded, 15day Window)', \n",
        "              'Second Order (NASDAQ & Currencies Excluded, 15day Window)',\n",
        "              'Stationary'], axis=1)\n",
        "  print(t)\n",
        "  t.to_csv('table_vd_ft.csv')\n",
        "\n",
        "  plot_result(t, [\"First Order\", \"Second Order\"])\n",
        "  plot_result(t, [\"First Order (NASDAQ & Currencies Excluded)\", \"Second Order (NASDAQ & Currencies Excluded)\"])\n",
        "\n",
        "get_result_feature_trans(df_10y)"
      ],
      "execution_count": 0,
      "outputs": []
    },
    {
      "cell_type": "markdown",
      "metadata": {
        "id": "KxqJqbxbJhHi",
        "colab_type": "text"
      },
      "source": [
        "# Features Removal"
      ]
    },
    {
      "cell_type": "code",
      "metadata": {
        "id": "hlZ94xPbJnxZ",
        "colab_type": "code",
        "colab": {}
      },
      "source": [
        "def get_result_order_diff(t):\n",
        "  plot_result(t, [\"First Order\", \"First Order (NASDAQ & Currencies Excluded)\"])\n",
        "  plot_result(t, [\"Second Order\", \"Second Order (NASDAQ & Currencies Excluded)\"])\n",
        "\n",
        "get_result_order_diff(df_10y)"
      ],
      "execution_count": 0,
      "outputs": []
    },
    {
      "cell_type": "markdown",
      "metadata": {
        "id": "aglX4D_nQFZx",
        "colab_type": "text"
      },
      "source": [
        "# Stationary"
      ]
    },
    {
      "cell_type": "code",
      "metadata": {
        "id": "cSqLKj_A9VFt",
        "colab_type": "code",
        "colab": {}
      },
      "source": [
        "def get_result_stationary(t):\n",
        "  cols = t.columns\n",
        "  cols = cols.to_list()\n",
        "  cols.remove('Stationary')\n",
        "  cols.remove('Model')\n",
        "\n",
        "  # print(cols)\n",
        "  t_x = t.drop(cols, axis=1)\n",
        "  print(t_x)\n",
        "  t_x.to_csv('table_st_ex.csv')\n",
        "  plot_result(t_x, [\"Stationary\"], y_lower=45, y_upper=60)\n",
        "\n",
        "  t = t[[\"Model\", 'First Order', 'First Order (NASDAQ & Currencies Excluded)', 'Stationary']]\n",
        "  t = t[t['Model']!='LSTM Regressor']\n",
        "  print(t)\n",
        "  t.to_csv('table_st.csv')\n",
        "  plot_result(t, ['First Order', 'First Order (NASDAQ & Currencies Excluded)', 'Stationary'], \n",
        "              y_lower=45, y_upper=65, legend_y=-.6)\n",
        "\n",
        "get_result_stationary(df_10y)"
      ],
      "execution_count": 0,
      "outputs": []
    },
    {
      "cell_type": "markdown",
      "metadata": {
        "id": "iaMNj-OaOuH-",
        "colab_type": "text"
      },
      "source": [
        "# 15-day Window"
      ]
    },
    {
      "cell_type": "code",
      "metadata": {
        "id": "wmntlz_9O-oj",
        "colab_type": "code",
        "colab": {}
      },
      "source": [
        "def get_result_15day_window(t):\n",
        "  t = t.drop(['Actual', 'First Order', 'Second Order',\n",
        "              'First Order (NASDAQ & Currencies Excluded)', \n",
        "              'Second Order (NASDAQ & Currencies Excluded)',\n",
        "              'Stationary'], axis=1)\n",
        "  print(t)\n",
        "  t.to_csv('table_15d_w.csv')\n",
        "\n",
        "  plot_result(t, [\"First Order (15day Window)\", \"Second Order (15day Window)\"], y_lower=45, y_upper=60)\n",
        "  plot_result(t, [\"First Order (NASDAQ & Currencies Excluded, 15day Window)\", \n",
        "              \"Second Order (NASDAQ & Currencies Excluded, 15day Window)\"], y_lower=45, y_upper=60, width=6)\n",
        "  plot_result(t, [\"First Order (15day Window)\", \n",
        "              \"First Order (NASDAQ & Currencies Excluded, 15day Window)\"], y_lower=45, y_upper=60, width=6)\n",
        "  plot_result(t, [\"Second Order (15day Window)\", \n",
        "              \"Second Order (NASDAQ & Currencies Excluded, 15day Window)\"], y_lower=45, y_upper=60, width=6)\n",
        "  plot_result(t, [\"First Order (15day Window)\", \"Second Order (15day Window)\", \n",
        "              \"First Order (NASDAQ & Currencies Excluded, 15day Window)\", \n",
        "              \"Second Order (NASDAQ & Currencies Excluded, 15day Window)\"], \n",
        "              y_lower=45, y_upper=60, legend_y=-.65, width=6)\n",
        "\n",
        "get_result_15day_window(df_10y)"
      ],
      "execution_count": 0,
      "outputs": []
    },
    {
      "cell_type": "markdown",
      "metadata": {
        "id": "80irMEa7rDMb",
        "colab_type": "text"
      },
      "source": [
        "# Feature Transformation Accuracy"
      ]
    },
    {
      "cell_type": "code",
      "metadata": {
        "id": "NorZJNXCu7r-",
        "colab_type": "code",
        "colab": {}
      },
      "source": [
        "def get_trans_accuracy(df):\n",
        "  result = pd.DataFrame(columns=[\"Trans\", \"Average\"])\n",
        "  for c_name in df.columns:\n",
        "    if not c_name == 'Model':\n",
        "      m = float(df[c_name].mean())\n",
        "      result = result.append([{'Trans': c_name, 'Average': m}])\n",
        "  result = result.reset_index()\n",
        "  result = result.drop(['index'], axis=1)\n",
        "\n",
        "  print(result)\n",
        "  result.to_csv('table_accu.csv')\n",
        "\n",
        "  plot_result(result, [\"Average\"], k=\"Trans\", y_lower=45, y_upper=60, legend_y=-.65, width=6)\n",
        "\n",
        "get_trans_accuracy(df_10y)"
      ],
      "execution_count": 0,
      "outputs": []
    },
    {
      "cell_type": "markdown",
      "metadata": {
        "id": "8RtaPrxbHIFm",
        "colab_type": "text"
      },
      "source": [
        "# Result Transpose"
      ]
    },
    {
      "cell_type": "code",
      "metadata": {
        "id": "NOq5lItA2pWH",
        "colab_type": "code",
        "colab": {}
      },
      "source": [
        "def get_result_transform(t):\n",
        "  t_t = t\n",
        "\n",
        "  cols = t_t.columns\n",
        "  cols = cols.to_list()\n",
        "  cols.remove('Actual')\n",
        "  t_t = t_t[cols]\n",
        "  \n",
        "  t_t = t_t.set_index('Model', inplace=False).T\n",
        "  t_t = t_t.reset_index()\n",
        "  t_t = t_t.rename_axis(None, axis=1)\n",
        "  n = 'Model'\n",
        "  t_t = t_t.rename(columns={'index': n})\n",
        "  print(t_t)\n",
        "\n",
        "  cols = t_t.columns\n",
        "  cols = cols.to_list()\n",
        "  cols.remove('Model')\n",
        "\n",
        "  plot_result(t_t, cols, width=12, legend_y=-.8)\n",
        "\n",
        "get_result_transform(df_10y)"
      ],
      "execution_count": 0,
      "outputs": []
    }
  ]
}